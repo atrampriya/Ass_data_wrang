{
 "cells": [
  {
   "cell_type": "markdown",
   "id": "c7df5f4c",
   "metadata": {},
   "source": [
    "## Q. 1. Create a null vector of size 10 but the fifth value which is 1."
   ]
  },
  {
   "cell_type": "code",
   "execution_count": 29,
   "id": "5b9da202",
   "metadata": {},
   "outputs": [
    {
     "name": "stdout",
     "output_type": "stream",
     "text": [
      "All values of a: [0. 0. 0. 0. 0. 0. 0. 0. 0. 0.]\n",
      "Updated values of a: [0. 0. 0. 0. 0. 1. 0. 0. 0. 0.]\n"
     ]
    }
   ],
   "source": [
    "import numpy as np\n",
    "a = np.zeros(10)\n",
    "print(f\"All values of a: {a}\")\n",
    "a[5] = 1\n",
    "print(f\"Updated values of a: {a}\")"
   ]
  },
  {
   "cell_type": "markdown",
   "id": "96fe151f",
   "metadata": {},
   "source": [
    "## Q. 2. Create a vector with values ranging from 10 to 49."
   ]
  },
  {
   "cell_type": "code",
   "execution_count": 8,
   "id": "21fda9e7",
   "metadata": {},
   "outputs": [
    {
     "data": {
      "text/plain": [
       "array([10, 11, 12, 13, 14, 15, 16, 17, 18, 19, 20, 21, 22, 23, 24, 25, 26,\n",
       "       27, 28, 29, 30, 31, 32, 33, 34, 35, 36, 37, 38, 39, 40, 41, 42, 43,\n",
       "       44, 45, 46, 47, 48])"
      ]
     },
     "execution_count": 8,
     "metadata": {},
     "output_type": "execute_result"
    }
   ],
   "source": [
    "arr = np.arange(10,49)\n",
    "arr"
   ]
  },
  {
   "cell_type": "markdown",
   "id": "40cb8148",
   "metadata": {},
   "source": [
    "## Q.3.Create a 3x3 matrix with values ranging from 0 to 8"
   ]
  },
  {
   "cell_type": "code",
   "execution_count": 9,
   "id": "bc8cca85",
   "metadata": {},
   "outputs": [
    {
     "data": {
      "text/plain": [
       "array([[0, 1, 2],\n",
       "       [3, 4, 5],\n",
       "       [6, 7, 8]])"
      ]
     },
     "execution_count": 9,
     "metadata": {},
     "output_type": "execute_result"
    }
   ],
   "source": [
    "arr1 = np.arange(0,9).reshape(3,3)\n",
    "arr1"
   ]
  },
  {
   "cell_type": "markdown",
   "id": "3a296931",
   "metadata": {},
   "source": [
    "## Q.4.Find indices of non-zero elements from [1,2,0,0,4,0]"
   ]
  },
  {
   "cell_type": "code",
   "execution_count": 12,
   "id": "0f08980b",
   "metadata": {},
   "outputs": [
    {
     "name": "stdout",
     "output_type": "stream",
     "text": [
      "(array([0, 1, 4], dtype=int64),)\n"
     ]
    }
   ],
   "source": [
    "num = [1,2,0,0,4,0]\n",
    "non_zeros = np.nonzero(num)\n",
    "print(non_zeros)"
   ]
  },
  {
   "cell_type": "markdown",
   "id": "2126f260",
   "metadata": {},
   "source": [
    "## Q.5.Create a 10x10 array with random values and find the minimum and maximum values."
   ]
  },
  {
   "cell_type": "code",
   "execution_count": 15,
   "id": "0ccc3db3",
   "metadata": {},
   "outputs": [
    {
     "data": {
      "text/plain": [
       "array([[21, 11,  9, 21, 34, 20,  2, 30,  2, 38],\n",
       "       [10, 28, 45, 44, 30, 21, 36, 46,  2,  0],\n",
       "       [18, 15,  6, 14, 32, 47, 34,  4,  0, 46],\n",
       "       [18, 33,  5, 29, 22, 33, 18, 34, 41, 33],\n",
       "       [24,  2, 33, 25,  1,  6, 25, 33, 39,  0],\n",
       "       [ 4, 20,  1, 23,  3,  0, 25,  0, 35, 36],\n",
       "       [ 1, 37, 35, 21,  6,  9, 49, 36, 30, 35],\n",
       "       [10, 32, 41, 39,  8, 16, 30, 17, 36, 19],\n",
       "       [45, 17, 19, 46, 27, 16, 19, 18, 16, 49],\n",
       "       [43, 23, 20, 13, 28, 47, 29,  4, 38, 15]])"
      ]
     },
     "execution_count": 15,
     "metadata": {},
     "output_type": "execute_result"
    }
   ],
   "source": [
    "arr2 = np.random.randint(50, size=(10,10))\n",
    "arr2"
   ]
  },
  {
   "cell_type": "code",
   "execution_count": 16,
   "id": "3b271dc8",
   "metadata": {},
   "outputs": [
    {
     "name": "stdout",
     "output_type": "stream",
     "text": [
      "0\n",
      "49\n"
     ]
    }
   ],
   "source": [
    "print(np.min(arr2))\n",
    "print(np.max(arr2))"
   ]
  },
  {
   "cell_type": "markdown",
   "id": "d9618655",
   "metadata": {},
   "source": [
    "## Q.6.Create a random vector of size 30 and find the mean value."
   ]
  },
  {
   "cell_type": "code",
   "execution_count": 28,
   "id": "ac5ea518",
   "metadata": {},
   "outputs": [
    {
     "name": "stdout",
     "output_type": "stream",
     "text": [
      "list of array: [0.16483547 0.43050268 0.71111153 0.3926706  0.75399507 0.20913507\n",
      " 0.3952105  0.54505673 0.02671303 0.8583197 ]\n",
      "Mean of array: 0.448755038737543\n"
     ]
    }
   ],
   "source": [
    "from numpy.random import random\n",
    "arr3 = random(10)\n",
    "print(f\"list of array: {arr3}\")\n",
    "print(f\"Mean of array: {arr3.mean()}\")"
   ]
  },
  {
   "cell_type": "code",
   "execution_count": null,
   "id": "7c574b02",
   "metadata": {},
   "outputs": [],
   "source": []
  }
 ],
 "metadata": {
  "kernelspec": {
   "display_name": "Python 3 (ipykernel)",
   "language": "python",
   "name": "python3"
  },
  "language_info": {
   "codemirror_mode": {
    "name": "ipython",
    "version": 3
   },
   "file_extension": ".py",
   "mimetype": "text/x-python",
   "name": "python",
   "nbconvert_exporter": "python",
   "pygments_lexer": "ipython3",
   "version": "3.10.2"
  }
 },
 "nbformat": 4,
 "nbformat_minor": 5
}
